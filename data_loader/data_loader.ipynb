{
 "cells": [
  {
   "cell_type": "code",
   "id": "initial_id",
   "metadata": {
    "collapsed": true,
    "ExecuteTime": {
     "end_time": "2024-06-06T12:46:40.274414Z",
     "start_time": "2024-06-06T12:46:40.268987Z"
    }
   },
   "source": [
    "import os\n",
    "os.chdir('src')"
   ],
   "outputs": [],
   "execution_count": 1
  },
  {
   "metadata": {
    "ExecuteTime": {
     "end_time": "2024-06-06T13:38:10.554621Z",
     "start_time": "2024-06-06T13:38:10.534869Z"
    }
   },
   "cell_type": "code",
   "source": "os.getcwd()",
   "id": "1838ae6abdfcaddd",
   "outputs": [
    {
     "data": {
      "text/plain": [
       "'/Users/socratis/PycharmProjects/hermetica/data_loader/src'"
      ]
     },
     "execution_count": 5,
     "metadata": {},
     "output_type": "execute_result"
    }
   ],
   "execution_count": 5
  },
  {
   "metadata": {
    "ExecuteTime": {
     "end_time": "2024-06-06T13:42:18.205790Z",
     "start_time": "2024-06-06T13:42:18.199587Z"
    }
   },
   "cell_type": "code",
   "source": "import annotation_crawl",
   "id": "ea8d09571d08064",
   "outputs": [],
   "execution_count": 6
  },
  {
   "metadata": {},
   "cell_type": "code",
   "outputs": [],
   "execution_count": null,
   "source": "",
   "id": "2384980cbdb8f4b5"
  }
 ],
 "metadata": {
  "kernelspec": {
   "display_name": "Python 3",
   "language": "python",
   "name": "python3"
  },
  "language_info": {
   "codemirror_mode": {
    "name": "ipython",
    "version": 2
   },
   "file_extension": ".py",
   "mimetype": "text/x-python",
   "name": "python",
   "nbconvert_exporter": "python",
   "pygments_lexer": "ipython2",
   "version": "2.7.6"
  }
 },
 "nbformat": 4,
 "nbformat_minor": 5
}
